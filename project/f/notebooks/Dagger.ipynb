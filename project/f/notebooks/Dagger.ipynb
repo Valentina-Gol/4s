{
  "nbformat": 4,
  "nbformat_minor": 0,
  "metadata": {
    "colab": {
      "name": "Dagger.ipynb",
      "provenance": [],
      "collapsed_sections": []
    },
    "kernelspec": {
      "name": "python3",
      "display_name": "Python 3"
    },
    "accelerator": "GPU"
  },
  "cells": [
    {
      "cell_type": "markdown",
      "metadata": {
        "id": "zcUrKSGxsOQ9"
      },
      "source": [
        "[![Open In Colab](https://colab.research.google.com/assets/colab-badge.svg)](https://colab.research.google.com/github/duckietown/challenge-aido_LF-baseline-dagger-pytorch/blob/main/notebook.ipynb)"
      ]
    },
    {
      "cell_type": "markdown",
      "metadata": {
        "id": "Obe3xVH5N4f6"
      },
      "source": [
        "## Preparing Code and dependencies"
      ]
    },
    {
      "cell_type": "code",
      "metadata": {
        "id": "y7B4akyzOBJQ",
        "outputId": "85dbd45f-d82b-4d41-c027-cc3a7a38dbdb",
        "colab": {
          "base_uri": "https://localhost:8080/"
        }
      },
      "source": [
        "branch = \"daffy\" #@param ['master', 'daffy']\n",
        "!apt-get install python3.8\n",
        "!apt install python3.8-distutils\n",
        "!wget https://bootstrap.pypa.io/get-pip.py\n",
        "!python3.8 get-pip.py"
      ],
      "execution_count": 5,
      "outputs": [
        {
          "output_type": "stream",
          "text": [
            "Reading package lists... Done\n",
            "Building dependency tree       \n",
            "Reading state information... Done\n",
            "python3.8 is already the newest version (3.8.8-1+bionic2).\n",
            "0 upgraded, 0 newly installed, 0 to remove and 29 not upgraded.\n",
            "Reading package lists... Done\n",
            "Building dependency tree       \n",
            "Reading state information... Done\n",
            "Note, selecting 'python3-distutils' instead of 'python3.8-distutils'\n",
            "python3-distutils is already the newest version (3.6.9-1~18.04).\n",
            "0 upgraded, 0 newly installed, 0 to remove and 29 not upgraded.\n",
            "--2021-03-13 17:55:25--  https://bootstrap.pypa.io/get-pip.py\n",
            "Resolving bootstrap.pypa.io (bootstrap.pypa.io)... 151.101.0.175, 151.101.64.175, 151.101.128.175, ...\n",
            "Connecting to bootstrap.pypa.io (bootstrap.pypa.io)|151.101.0.175|:443... connected.\n",
            "HTTP request sent, awaiting response... 200 OK\n",
            "Length: 1927626 (1.8M) [text/x-python]\n",
            "Saving to: ‘get-pip.py’\n",
            "\n",
            "get-pip.py          100%[===================>]   1.84M  --.-KB/s    in 0.03s   \n",
            "\n",
            "2021-03-13 17:55:25 (60.5 MB/s) - ‘get-pip.py’ saved [1927626/1927626]\n",
            "\n",
            "Collecting pip\n",
            "  Using cached pip-21.0.1-py3-none-any.whl (1.5 MB)\n",
            "Installing collected packages: pip\n",
            "  Attempting uninstall: pip\n",
            "    Found existing installation: pip 21.0.1\n",
            "    Uninstalling pip-21.0.1:\n",
            "      Successfully uninstalled pip-21.0.1\n",
            "Successfully installed pip-21.0.1\n"
          ],
          "name": "stdout"
        }
      ]
    },
    {
      "cell_type": "code",
      "metadata": {
        "id": "0t6S4SXTshYp",
        "outputId": "d4c9f464-7003-4fae-bfbc-d3d321d18b65",
        "colab": {
          "base_uri": "https://localhost:8080/"
        }
      },
      "source": [
        "!pip3.8 freeze"
      ],
      "execution_count": 6,
      "outputs": [
        {
          "output_type": "stream",
          "text": [
            "absl-py==0.12.0\n",
            "aido-protocols-daffy==6.0.33\n",
            "asciimatics==1.12.0\n",
            "astunparse==1.6.3\n",
            "attrs==20.3.0\n",
            "base58==1.0.3\n",
            "beautifulsoup4==4.7.1\n",
            "cachetools==4.2.1\n",
            "carnivalmirror==0.6.2\n",
            "cbor2==5.2.0\n",
            "certifi==2020.12.5\n",
            "chardet==4.0.0\n",
            "cloudpickle==1.6.0\n",
            "colorama==0.4.4\n",
            "coloredlogs==15.0\n",
            "compmake-z6==6.1.0\n",
            "coverage==5.5\n",
            "cycler==0.10.0\n",
            "dataclasses==0.6\n",
            "dataclasses-json==0.5.2\n",
            "decorator==4.4.2\n",
            "dill==0.3.3\n",
            "-e git+https://github.com/duckietown/gym-duckietown@2a0693c02cc2f42de30ef08221c77611af378c6d#egg=duckietown_gym_daffy\n",
            "duckietown-serialization-ds1==1.0.10\n",
            "duckietown-world-daffy==6.2.7\n",
            "EasyProcess==0.3\n",
            "freetype-py==2.2.0\n",
            "frozendict==1.2\n",
            "future==0.18.2\n",
            "gltflib==1.0.5\n",
            "google-auth==1.27.1\n",
            "google-auth-oauthlib==0.4.3\n",
            "grpcio==1.36.1\n",
            "gym==0.18.0\n",
            "humanfriendly==9.1\n",
            "idna==2.10\n",
            "imageio==2.9.0\n",
            "jsonschema==3.2.0\n",
            "kiwisolver==1.3.1\n",
            "lxml==4.6.2\n",
            "Markdown==3.3.4\n",
            "MarkupSafe==1.1.1\n",
            "marshmallow==3.10.0\n",
            "marshmallow-enum==1.5.1\n",
            "matplotlib==3.3.4\n",
            "morphys==1.0\n",
            "mypy-extensions==0.4.3\n",
            "networkx==2.5\n",
            "nose==1.3.7\n",
            "numpy==1.20.1\n",
            "oauthlib==3.1.0\n",
            "opencv-python==4.5.1.48\n",
            "oyaml==1.0\n",
            "Parsley==1.3\n",
            "piglet==1.0.0\n",
            "piglet-templates==1.1.0\n",
            "Pillow==7.2.0\n",
            "plotly==4.14.3\n",
            "protobuf==3.15.6\n",
            "psutil==5.8.0\n",
            "py-cid==0.3.0\n",
            "py-multibase==1.0.3\n",
            "py-multicodec==0.2.1\n",
            "py-multihash==0.2.3\n",
            "pyasn1==0.4.8\n",
            "pyasn1-modules==0.2.8\n",
            "pybase64==1.1.4\n",
            "PyContracts3==3.0.2\n",
            "pydot==1.4.2\n",
            "pyfiglet==0.8.post1\n",
            "PyGeometry-z6==2.0.5\n",
            "pyglet==1.5.0\n",
            "pygobject==3.26.1\n",
            "PyOpenGL==3.1.0\n",
            "pyparsing==2.4.7\n",
            "pyrender==0.1.45\n",
            "pyrsistent==0.17.3\n",
            "python-apt==1.6.5+ubuntu0.5\n",
            "python-baseconv==1.2.2\n",
            "python-dateutil==2.8.1\n",
            "pytz==2021.1\n",
            "PyVirtualDisplay==2.1\n",
            "PyWavelets==1.1.1\n",
            "PyYAML==5.4.1\n",
            "pyzmq==22.0.3\n",
            "requests==2.25.1\n",
            "requests-oauthlib==1.3.0\n",
            "retrying==1.3.3\n",
            "rsa==4.7.2\n",
            "scikit-image==0.18.1\n",
            "scipy==1.6.1\n",
            "screen-resolution-extra==0.0.0\n",
            "setproctitle==1.2.2\n",
            "six==1.15.0\n",
            "soupsieve==2.2\n",
            "stringcase==1.2.0\n",
            "svgwrite==1.4.1\n",
            "SystemCmd-z6==3.0.5\n",
            "tensorboard==2.4.1\n",
            "tensorboard-plugin-wit==1.8.0\n",
            "termcolor==1.1.0\n",
            "tifffile==2021.3.5\n",
            "torch==1.8.0\n",
            "torchvision==0.9.0\n",
            "tqdm==4.59.0\n",
            "trimesh==3.9.8\n",
            "typing-extensions==3.7.4.3\n",
            "typing-inspect==0.6.0\n",
            "urllib3==1.26.3\n",
            "validate-email==1.3\n",
            "varint==1.0.2\n",
            "wcwidth==0.2.5\n",
            "webcolors==1.11.1\n",
            "Werkzeug==1.0.1\n",
            "xkit==0.0.0\n",
            "xtermcolor==1.3\n",
            "zuper-commons-z6==6.1.7\n",
            "zuper-ipce-z6==6.0.36\n",
            "zuper-nodes-z6==6.1.1\n",
            "zuper-typing-z6==6.1.8\n"
          ],
          "name": "stdout"
        }
      ]
    },
    {
      "cell_type": "code",
      "metadata": {
        "id": "88TrRDRLOXLF",
        "colab": {
          "base_uri": "https://localhost:8080/"
        },
        "outputId": "ade14c3b-aff3-41fe-f094-aeb39e757910"
      },
      "source": [
        "! git clone --branch {branch} https://github.com/duckietown/gym-duckietown"
      ],
      "execution_count": 7,
      "outputs": [
        {
          "output_type": "stream",
          "text": [
            "fatal: destination path 'gym-duckietown' already exists and is not an empty directory.\n"
          ],
          "name": "stdout"
        }
      ]
    },
    {
      "cell_type": "code",
      "metadata": {
        "id": "IdLCXQT1Oy9U",
        "colab": {
          "base_uri": "https://localhost:8080/"
        },
        "outputId": "ebd1f54d-72d8-4105-b8d1-714bd64e6b14"
      },
      "source": [
        "!pip3.8 install -e gym-duckietown/."
      ],
      "execution_count": 8,
      "outputs": [
        {
          "output_type": "stream",
          "text": [
            "Obtaining file:///content/gym-duckietown\n",
            "Requirement already satisfied: gym>=0.17.1 in /usr/local/lib/python3.8/dist-packages (from duckietown-gym-daffy==6.1.1) (0.18.0)\n",
            "Requirement already satisfied: numpy>=1.10.0 in /usr/local/lib/python3.8/dist-packages (from duckietown-gym-daffy==6.1.1) (1.20.1)\n",
            "Requirement already satisfied: pyglet<=1.5.0 in /usr/local/lib/python3.8/dist-packages (from duckietown-gym-daffy==6.1.1) (1.5.0)\n",
            "Requirement already satisfied: pyzmq>=16.0.0 in /usr/local/lib/python3.8/dist-packages (from duckietown-gym-daffy==6.1.1) (22.0.3)\n",
            "Requirement already satisfied: scikit-image>=0.13.1 in /usr/local/lib/python3.8/dist-packages (from duckietown-gym-daffy==6.1.1) (0.18.1)\n",
            "Requirement already satisfied: opencv-python>=3.4 in /usr/local/lib/python3.8/dist-packages (from duckietown-gym-daffy==6.1.1) (4.5.1.48)\n",
            "Requirement already satisfied: pyyaml>=3.11 in /usr/local/lib/python3.8/dist-packages (from duckietown-gym-daffy==6.1.1) (5.4.1)\n",
            "Requirement already satisfied: cloudpickle in /usr/local/lib/python3.8/dist-packages (from duckietown-gym-daffy==6.1.1) (1.6.0)\n",
            "Requirement already satisfied: duckietown-world-daffy in /usr/local/lib/python3.8/dist-packages (from duckietown-gym-daffy==6.1.1) (6.2.7)\n",
            "Requirement already satisfied: PyGeometry-z6 in /usr/local/lib/python3.8/dist-packages (from duckietown-gym-daffy==6.1.1) (2.0.5)\n",
            "Requirement already satisfied: carnivalmirror==0.6.2 in /usr/local/lib/python3.8/dist-packages (from duckietown-gym-daffy==6.1.1) (0.6.2)\n",
            "Requirement already satisfied: matplotlib>=2.2.2 in /usr/local/lib/python3.8/dist-packages (from carnivalmirror==0.6.2->duckietown-gym-daffy==6.1.1) (3.3.4)\n",
            "Requirement already satisfied: Pillow<=7.2.0 in /usr/local/lib/python3.8/dist-packages (from gym>=0.17.1->duckietown-gym-daffy==6.1.1) (7.2.0)\n",
            "Requirement already satisfied: scipy in /usr/local/lib/python3.8/dist-packages (from gym>=0.17.1->duckietown-gym-daffy==6.1.1) (1.6.1)\n",
            "Requirement already satisfied: cycler>=0.10 in /usr/local/lib/python3.8/dist-packages (from matplotlib>=2.2.2->carnivalmirror==0.6.2->duckietown-gym-daffy==6.1.1) (0.10.0)\n",
            "Requirement already satisfied: kiwisolver>=1.0.1 in /usr/local/lib/python3.8/dist-packages (from matplotlib>=2.2.2->carnivalmirror==0.6.2->duckietown-gym-daffy==6.1.1) (1.3.1)\n",
            "Requirement already satisfied: pyparsing!=2.0.4,!=2.1.2,!=2.1.6,>=2.0.3 in /usr/local/lib/python3.8/dist-packages (from matplotlib>=2.2.2->carnivalmirror==0.6.2->duckietown-gym-daffy==6.1.1) (2.4.7)\n",
            "Requirement already satisfied: python-dateutil>=2.1 in /usr/local/lib/python3.8/dist-packages (from matplotlib>=2.2.2->carnivalmirror==0.6.2->duckietown-gym-daffy==6.1.1) (2.8.1)\n",
            "Requirement already satisfied: six in /usr/local/lib/python3.8/dist-packages (from cycler>=0.10->matplotlib>=2.2.2->carnivalmirror==0.6.2->duckietown-gym-daffy==6.1.1) (1.15.0)\n",
            "Requirement already satisfied: future in /usr/local/lib/python3.8/dist-packages (from pyglet<=1.5.0->duckietown-gym-daffy==6.1.1) (0.18.2)\n",
            "Requirement already satisfied: PyWavelets>=1.1.1 in /usr/local/lib/python3.8/dist-packages (from scikit-image>=0.13.1->duckietown-gym-daffy==6.1.1) (1.1.1)\n",
            "Requirement already satisfied: networkx>=2.0 in /usr/local/lib/python3.8/dist-packages (from scikit-image>=0.13.1->duckietown-gym-daffy==6.1.1) (2.5)\n",
            "Requirement already satisfied: imageio>=2.3.0 in /usr/local/lib/python3.8/dist-packages (from scikit-image>=0.13.1->duckietown-gym-daffy==6.1.1) (2.9.0)\n",
            "Requirement already satisfied: tifffile>=2019.7.26 in /usr/local/lib/python3.8/dist-packages (from scikit-image>=0.13.1->duckietown-gym-daffy==6.1.1) (2021.3.5)\n",
            "Requirement already satisfied: decorator>=4.3.0 in /usr/local/lib/python3.8/dist-packages (from networkx>=2.0->scikit-image>=0.13.1->duckietown-gym-daffy==6.1.1) (4.4.2)\n",
            "Requirement already satisfied: aido-protocols-daffy in /usr/local/lib/python3.8/dist-packages (from duckietown-world-daffy->duckietown-gym-daffy==6.1.1) (6.0.33)\n",
            "Requirement already satisfied: trimesh in /usr/local/lib/python3.8/dist-packages (from duckietown-world-daffy->duckietown-gym-daffy==6.1.1) (3.9.8)\n",
            "Requirement already satisfied: oyaml in /usr/local/lib/python3.8/dist-packages (from duckietown-world-daffy->duckietown-gym-daffy==6.1.1) (1.0)\n",
            "Requirement already satisfied: gltflib in /usr/local/lib/python3.8/dist-packages (from duckietown-world-daffy->duckietown-gym-daffy==6.1.1) (1.0.5)\n",
            "Requirement already satisfied: plotly in /usr/local/lib/python3.8/dist-packages (from duckietown-world-daffy->duckietown-gym-daffy==6.1.1) (4.14.3)\n",
            "Requirement already satisfied: svgwrite in /usr/local/lib/python3.8/dist-packages (from duckietown-world-daffy->duckietown-gym-daffy==6.1.1) (1.4.1)\n",
            "Requirement already satisfied: zuper-typing-z6>=6.0.66 in /usr/local/lib/python3.8/dist-packages (from duckietown-world-daffy->duckietown-gym-daffy==6.1.1) (6.1.8)\n",
            "Requirement already satisfied: colorama in /usr/local/lib/python3.8/dist-packages (from duckietown-world-daffy->duckietown-gym-daffy==6.1.1) (0.4.4)\n",
            "Requirement already satisfied: duckietown-serialization-ds1<2 in /usr/local/lib/python3.8/dist-packages (from duckietown-world-daffy->duckietown-gym-daffy==6.1.1) (1.0.10)\n",
            "Requirement already satisfied: pyrender in /usr/local/lib/python3.8/dist-packages (from duckietown-world-daffy->duckietown-gym-daffy==6.1.1) (0.1.45)\n",
            "Requirement already satisfied: beautifulsoup4<=4.7.1,>=4.6.3 in /usr/local/lib/python3.8/dist-packages (from duckietown-world-daffy->duckietown-gym-daffy==6.1.1) (4.7.1)\n",
            "Requirement already satisfied: zuper-ipce-z6 in /usr/local/lib/python3.8/dist-packages (from duckietown-world-daffy->duckietown-gym-daffy==6.1.1) (6.0.36)\n",
            "Requirement already satisfied: lxml in /usr/local/lib/python3.8/dist-packages (from duckietown-world-daffy->duckietown-gym-daffy==6.1.1) (4.6.2)\n",
            "Requirement already satisfied: coloredlogs in /usr/local/lib/python3.8/dist-packages (from duckietown-world-daffy->duckietown-gym-daffy==6.1.1) (15.0)\n",
            "Requirement already satisfied: markdown in /usr/local/lib/python3.8/dist-packages (from duckietown-world-daffy->duckietown-gym-daffy==6.1.1) (3.3.4)\n",
            "Requirement already satisfied: soupsieve>=1.2 in /usr/local/lib/python3.8/dist-packages (from beautifulsoup4<=4.7.1,>=4.6.3->duckietown-world-daffy->duckietown-gym-daffy==6.1.1) (2.2)\n",
            "Requirement already satisfied: base58<2 in /usr/local/lib/python3.8/dist-packages (from duckietown-serialization-ds1<2->duckietown-world-daffy->duckietown-gym-daffy==6.1.1) (1.0.3)\n",
            "Requirement already satisfied: PyContracts3 in /usr/local/lib/python3.8/dist-packages (from PyGeometry-z6->duckietown-gym-daffy==6.1.1) (3.0.2)\n",
            "Requirement already satisfied: zuper-commons-z6>=6.1.4 in /usr/local/lib/python3.8/dist-packages (from zuper-typing-z6>=6.0.66->duckietown-world-daffy->duckietown-gym-daffy==6.1.1) (6.1.7)\n",
            "Requirement already satisfied: jsonschema in /usr/local/lib/python3.8/dist-packages (from zuper-typing-z6>=6.0.66->duckietown-world-daffy->duckietown-gym-daffy==6.1.1) (3.2.0)\n",
            "Requirement already satisfied: termcolor in /usr/local/lib/python3.8/dist-packages (from zuper-typing-z6>=6.0.66->duckietown-world-daffy->duckietown-gym-daffy==6.1.1) (1.1.0)\n",
            "Requirement already satisfied: pybase64 in /usr/local/lib/python3.8/dist-packages (from zuper-typing-z6>=6.0.66->duckietown-world-daffy->duckietown-gym-daffy==6.1.1) (1.1.4)\n",
            "Requirement already satisfied: nose in /usr/local/lib/python3.8/dist-packages (from zuper-typing-z6>=6.0.66->duckietown-world-daffy->duckietown-gym-daffy==6.1.1) (1.3.7)\n",
            "Requirement already satisfied: frozendict in /usr/local/lib/python3.8/dist-packages (from zuper-typing-z6>=6.0.66->duckietown-world-daffy->duckietown-gym-daffy==6.1.1) (1.2)\n",
            "Requirement already satisfied: pytz in /usr/local/lib/python3.8/dist-packages (from zuper-typing-z6>=6.0.66->duckietown-world-daffy->duckietown-gym-daffy==6.1.1) (2021.1)\n",
            "Requirement already satisfied: typing-extensions in /usr/local/lib/python3.8/dist-packages (from zuper-typing-z6>=6.0.66->duckietown-world-daffy->duckietown-gym-daffy==6.1.1) (3.7.4.3)\n",
            "Requirement already satisfied: mypy-extensions in /usr/local/lib/python3.8/dist-packages (from zuper-typing-z6>=6.0.66->duckietown-world-daffy->duckietown-gym-daffy==6.1.1) (0.4.3)\n",
            "Requirement already satisfied: coverage>=1.4.33 in /usr/local/lib/python3.8/dist-packages (from zuper-typing-z6>=6.0.66->duckietown-world-daffy->duckietown-gym-daffy==6.1.1) (5.5)\n",
            "Requirement already satisfied: validate-email in /usr/local/lib/python3.8/dist-packages (from zuper-typing-z6>=6.0.66->duckietown-world-daffy->duckietown-gym-daffy==6.1.1) (1.3)\n",
            "Requirement already satisfied: webcolors in /usr/local/lib/python3.8/dist-packages (from zuper-commons-z6>=6.1.4->zuper-typing-z6>=6.0.66->duckietown-world-daffy->duckietown-gym-daffy==6.1.1) (1.11.1)\n",
            "Requirement already satisfied: xtermcolor in /usr/local/lib/python3.8/dist-packages (from zuper-commons-z6>=6.1.4->zuper-typing-z6>=6.0.66->duckietown-world-daffy->duckietown-gym-daffy==6.1.1) (1.3)\n",
            "Requirement already satisfied: pydot in /usr/local/lib/python3.8/dist-packages (from aido-protocols-daffy->duckietown-world-daffy->duckietown-gym-daffy==6.1.1) (1.4.2)\n",
            "Requirement already satisfied: compmake-z6 in /usr/local/lib/python3.8/dist-packages (from aido-protocols-daffy->duckietown-world-daffy->duckietown-gym-daffy==6.1.1) (6.1.0)\n",
            "Requirement already satisfied: zuper-nodes-z6>=6.0.37 in /usr/local/lib/python3.8/dist-packages (from aido-protocols-daffy->duckietown-world-daffy->duckietown-gym-daffy==6.1.1) (6.1.1)\n",
            "Requirement already satisfied: py-cid in /usr/local/lib/python3.8/dist-packages (from zuper-ipce-z6->duckietown-world-daffy->duckietown-gym-daffy==6.1.1) (0.3.0)\n",
            "Requirement already satisfied: cbor2<6,>=5 in /usr/local/lib/python3.8/dist-packages (from zuper-ipce-z6->duckietown-world-daffy->duckietown-gym-daffy==6.1.1) (5.2.0)\n",
            "Requirement already satisfied: py-multihash in /usr/local/lib/python3.8/dist-packages (from zuper-ipce-z6->duckietown-world-daffy->duckietown-gym-daffy==6.1.1) (0.2.3)\n",
            "Requirement already satisfied: humanfriendly>=9.1 in /usr/local/lib/python3.8/dist-packages (from coloredlogs->duckietown-world-daffy->duckietown-gym-daffy==6.1.1) (9.1)\n",
            "Requirement already satisfied: dill in /usr/local/lib/python3.8/dist-packages (from compmake-z6->aido-protocols-daffy->duckietown-world-daffy->duckietown-gym-daffy==6.1.1) (0.3.3)\n",
            "Requirement already satisfied: SystemCmd-z6 in /usr/local/lib/python3.8/dist-packages (from compmake-z6->aido-protocols-daffy->duckietown-world-daffy->duckietown-gym-daffy==6.1.1) (3.0.5)\n",
            "Requirement already satisfied: setproctitle in /usr/local/lib/python3.8/dist-packages (from compmake-z6->aido-protocols-daffy->duckietown-world-daffy->duckietown-gym-daffy==6.1.1) (1.2.2)\n",
            "Requirement already satisfied: asciimatics in /usr/local/lib/python3.8/dist-packages (from compmake-z6->aido-protocols-daffy->duckietown-world-daffy->duckietown-gym-daffy==6.1.1) (1.12.0)\n",
            "Requirement already satisfied: psutil in /usr/local/lib/python3.8/dist-packages (from compmake-z6->aido-protocols-daffy->duckietown-world-daffy->duckietown-gym-daffy==6.1.1) (5.8.0)\n",
            "Requirement already satisfied: pyfiglet>=0.7.2 in /usr/local/lib/python3.8/dist-packages (from asciimatics->compmake-z6->aido-protocols-daffy->duckietown-world-daffy->duckietown-gym-daffy==6.1.1) (0.8.post1)\n",
            "Requirement already satisfied: wcwidth in /usr/local/lib/python3.8/dist-packages (from asciimatics->compmake-z6->aido-protocols-daffy->duckietown-world-daffy->duckietown-gym-daffy==6.1.1) (0.2.5)\n",
            "Requirement already satisfied: dataclasses>=0.6 in /usr/local/lib/python3.8/dist-packages (from gltflib->duckietown-world-daffy->duckietown-gym-daffy==6.1.1) (0.6)\n",
            "Requirement already satisfied: dataclasses-json>=0.2.2 in /usr/local/lib/python3.8/dist-packages (from gltflib->duckietown-world-daffy->duckietown-gym-daffy==6.1.1) (0.5.2)\n",
            "Requirement already satisfied: stringcase<2.0.0,==1.2.0 in /usr/local/lib/python3.8/dist-packages (from dataclasses-json>=0.2.2->gltflib->duckietown-world-daffy->duckietown-gym-daffy==6.1.1) (1.2.0)\n",
            "Requirement already satisfied: marshmallow-enum<2.0.0,>=1.5.1 in /usr/local/lib/python3.8/dist-packages (from dataclasses-json>=0.2.2->gltflib->duckietown-world-daffy->duckietown-gym-daffy==6.1.1) (1.5.1)\n",
            "Requirement already satisfied: typing-inspect>=0.4.0 in /usr/local/lib/python3.8/dist-packages (from dataclasses-json>=0.2.2->gltflib->duckietown-world-daffy->duckietown-gym-daffy==6.1.1) (0.6.0)\n",
            "Requirement already satisfied: marshmallow<4.0.0,>=3.3.0 in /usr/local/lib/python3.8/dist-packages (from dataclasses-json>=0.2.2->gltflib->duckietown-world-daffy->duckietown-gym-daffy==6.1.1) (3.10.0)\n",
            "Requirement already satisfied: setuptools in /usr/local/lib/python3.8/dist-packages (from jsonschema->zuper-typing-z6>=6.0.66->duckietown-world-daffy->duckietown-gym-daffy==6.1.1) (54.1.1)\n",
            "Requirement already satisfied: attrs>=17.4.0 in /usr/local/lib/python3.8/dist-packages (from jsonschema->zuper-typing-z6>=6.0.66->duckietown-world-daffy->duckietown-gym-daffy==6.1.1) (20.3.0)\n",
            "Requirement already satisfied: pyrsistent>=0.14.0 in /usr/local/lib/python3.8/dist-packages (from jsonschema->zuper-typing-z6>=6.0.66->duckietown-world-daffy->duckietown-gym-daffy==6.1.1) (0.17.3)\n",
            "Requirement already satisfied: retrying>=1.3.3 in /usr/local/lib/python3.8/dist-packages (from plotly->duckietown-world-daffy->duckietown-gym-daffy==6.1.1) (1.3.3)\n",
            "Requirement already satisfied: py-multibase<2.0.0,>=1.0.0 in /usr/local/lib/python3.8/dist-packages (from py-cid->zuper-ipce-z6->duckietown-world-daffy->duckietown-gym-daffy==6.1.1) (1.0.3)\n",
            "Requirement already satisfied: py-multicodec<0.3.0 in /usr/local/lib/python3.8/dist-packages (from py-cid->zuper-ipce-z6->duckietown-world-daffy->duckietown-gym-daffy==6.1.1) (0.2.1)\n",
            "Requirement already satisfied: morphys<2.0,>=1.0 in /usr/local/lib/python3.8/dist-packages (from py-cid->zuper-ipce-z6->duckietown-world-daffy->duckietown-gym-daffy==6.1.1) (1.0)\n",
            "Requirement already satisfied: python-baseconv<2.0,>=1.2.0 in /usr/local/lib/python3.8/dist-packages (from py-multibase<2.0.0,>=1.0.0->py-cid->zuper-ipce-z6->duckietown-world-daffy->duckietown-gym-daffy==6.1.1) (1.2.2)\n",
            "Requirement already satisfied: varint<2.0.0,>=1.0.2 in /usr/local/lib/python3.8/dist-packages (from py-multicodec<0.3.0->py-cid->zuper-ipce-z6->duckietown-world-daffy->duckietown-gym-daffy==6.1.1) (1.0.2)\n",
            "Requirement already satisfied: PyOpenGL==3.1.0 in /usr/local/lib/python3.8/dist-packages (from pyrender->duckietown-world-daffy->duckietown-gym-daffy==6.1.1) (3.1.0)\n",
            "Requirement already satisfied: freetype-py in /usr/local/lib/python3.8/dist-packages (from pyrender->duckietown-world-daffy->duckietown-gym-daffy==6.1.1) (2.2.0)\n",
            "Installing collected packages: duckietown-gym-daffy\n",
            "  Attempting uninstall: duckietown-gym-daffy\n",
            "    Found existing installation: duckietown-gym-daffy 6.1.1\n",
            "    Can't uninstall 'duckietown-gym-daffy'. No files were found to uninstall.\n",
            "  Running setup.py develop for duckietown-gym-daffy\n",
            "Successfully installed duckietown-gym-daffy\n"
          ],
          "name": "stdout"
        }
      ]
    },
    {
      "cell_type": "code",
      "metadata": {
        "id": "0vdZeI_FsORD",
        "outputId": "0f2427a9-6d17-4f75-b2b8-c15d79fb2b00",
        "colab": {
          "base_uri": "https://localhost:8080/"
        }
      },
      "source": [
        "! git clone https://github.com/duckietown/challenge-aido_LF-baseline-dagger-pytorch"
      ],
      "execution_count": 9,
      "outputs": [
        {
          "output_type": "stream",
          "text": [
            "fatal: destination path 'challenge-aido_LF-baseline-dagger-pytorch' already exists and is not an empty directory.\n"
          ],
          "name": "stdout"
        }
      ]
    },
    {
      "cell_type": "code",
      "metadata": {
        "id": "JVphKVHxsORE"
      },
      "source": [
        "import os \n",
        "os.chdir('challenge-aido_LF-baseline-dagger-pytorch')"
      ],
      "execution_count": 26,
      "outputs": []
    },
    {
      "cell_type": "markdown",
      "metadata": {
        "id": "PZCERj2COqJH"
      },
      "source": [
        "### Virtual Display Setup"
      ]
    },
    {
      "cell_type": "code",
      "metadata": {
        "id": "Gd7rzmy5OlyJ",
        "colab": {
          "base_uri": "https://localhost:8080/"
        },
        "outputId": "fcc4b651-c3f6-4654-e065-03f386c7a1db"
      },
      "source": [
        "!apt-get install python-opengl -y\n",
        "!apt install xvfb -y\n",
        "!apt-get install x11-utils"
      ],
      "execution_count": 27,
      "outputs": [
        {
          "output_type": "stream",
          "text": [
            "Reading package lists... Done\n",
            "Building dependency tree       \n",
            "Reading state information... Done\n",
            "python-opengl is already the newest version (3.1.0+dfsg-1).\n",
            "0 upgraded, 0 newly installed, 0 to remove and 29 not upgraded.\n",
            "Reading package lists... Done\n",
            "Building dependency tree       \n",
            "Reading state information... Done\n",
            "xvfb is already the newest version (2:1.19.6-1ubuntu4.8).\n",
            "0 upgraded, 0 newly installed, 0 to remove and 29 not upgraded.\n",
            "Reading package lists... Done\n",
            "Building dependency tree       \n",
            "Reading state information... Done\n",
            "x11-utils is already the newest version (7.7+3build1).\n",
            "0 upgraded, 0 newly installed, 0 to remove and 29 not upgraded.\n"
          ],
          "name": "stdout"
        }
      ]
    },
    {
      "cell_type": "code",
      "metadata": {
        "id": "_vOFpsrQOpv7",
        "colab": {
          "base_uri": "https://localhost:8080/"
        },
        "outputId": "71b66b62-2681-474c-9e07-cc4df7c137b3"
      },
      "source": [
        "!pip3.8 install pyvirtualdisplay\n",
        "!pip3.8 install piglet"
      ],
      "execution_count": 29,
      "outputs": [
        {
          "output_type": "stream",
          "text": [
            "Requirement already satisfied: pyvirtualdisplay in /usr/local/lib/python3.8/dist-packages (2.1)\n",
            "Requirement already satisfied: EasyProcess in /usr/local/lib/python3.8/dist-packages (from pyvirtualdisplay) (0.3)\n",
            "Requirement already satisfied: piglet in /usr/local/lib/python3.8/dist-packages (1.0.0)\n",
            "Requirement already satisfied: piglet-templates in /usr/local/lib/python3.8/dist-packages (from piglet) (1.1.0)\n",
            "Requirement already satisfied: Parsley in /usr/local/lib/python3.8/dist-packages (from piglet-templates->piglet) (1.3)\n",
            "Requirement already satisfied: astunparse in /usr/local/lib/python3.8/dist-packages (from piglet-templates->piglet) (1.6.3)\n",
            "Requirement already satisfied: attrs in /usr/local/lib/python3.8/dist-packages (from piglet-templates->piglet) (20.3.0)\n",
            "Requirement already satisfied: markupsafe in /usr/local/lib/python3.8/dist-packages (from piglet-templates->piglet) (1.1.1)\n",
            "Requirement already satisfied: wheel<1.0,>=0.23.0 in /usr/local/lib/python3.8/dist-packages (from astunparse->piglet-templates->piglet) (0.36.2)\n",
            "Requirement already satisfied: six<2.0,>=1.6.1 in /usr/local/lib/python3.8/dist-packages (from astunparse->piglet-templates->piglet) (1.15.0)\n"
          ],
          "name": "stdout"
        }
      ]
    },
    {
      "cell_type": "code",
      "metadata": {
        "id": "T2Ajwp-HPDKY"
      },
      "source": [
        "from pyvirtualdisplay import Display\n",
        "import numpy as np\n",
        "import matplotlib.pyplot as plt\n",
        "%matplotlib inline\n",
        "\n",
        "# This code creates a virtual display to draw game images on. \n",
        "# If you are running locally, just ignore it\n",
        "import os\n",
        "def create_display():\n",
        "    display = Display(visible=0, size=(1400, 900))\n",
        "    display.start()\n",
        "    if type(os.environ.get(\"DISPLAY\")) is not str or len(os.environ.get(\"DISPLAY\"))==0:\n",
        "        !bash ../xvfb start\n",
        "        %env DISPLAY=:1"
      ],
      "execution_count": 3,
      "outputs": []
    },
    {
      "cell_type": "markdown",
      "metadata": {
        "id": "eiq9plyiO7LQ"
      },
      "source": [
        "## Imitation Learning Dagger"
      ]
    },
    {
      "cell_type": "markdown",
      "metadata": {
        "id": "Dx6qgGm8QMMZ"
      },
      "source": [
        "## Training"
      ]
    },
    {
      "cell_type": "code",
      "metadata": {
        "id": "xyHbCPyURVG3"
      },
      "source": [
        "learning_rates = ['1e-1', '1e-2', '1e-3', '1e-4', '1e-5']\n",
        "mixing_decays = ['0.5', '0.6', '0.7', '0.8', '0.85', '0.9', '0.95']"
      ],
      "execution_count": 31,
      "outputs": []
    },
    {
      "cell_type": "code",
      "metadata": {
        "id": "augg6SvSQOR_"
      },
      "source": [
        "save_path = \"imitation_baseline\" #@param {type: \"string\"}\n",
        "episode = 10 # @param {type: \"integer\"}\n",
        "horizon = 128 # @param {type: \"integer\"}\n",
        "learning_rate = \"1e-3\" # @param ['1e-1', '1e-2', '1e-3', '1e-4', '1e-5']\n",
        "decay = \"0.7\" # @param ['0.5', '0.6', '0.7', '0.8', '0.85', '0.9', '0.95']\n",
        "map_name = \"loop_empty\" #@param {type: \"string\"}\n",
        "# number of outputs can be 2 to predict omega and velocity\n",
        "# or  1 to fix velocity and predict only omega\n",
        "num_outputs = 2 # @param {type: \"integer\"} \n",
        "learning_rate = learning_rates.index(learning_rate)\n",
        "decay = mixing_decays.index(decay)\n"
      ],
      "execution_count": 32,
      "outputs": []
    },
    {
      "cell_type": "code",
      "metadata": {
        "id": "KWWtgRdotLhQ",
        "outputId": "0d47abeb-02a9-43ae-b99c-604817284e43",
        "colab": {
          "base_uri": "https://localhost:8080/"
        }
      },
      "source": [
        "!pip3.8 install tqdm torch torchvision tensorboard"
      ],
      "execution_count": 42,
      "outputs": [
        {
          "output_type": "stream",
          "text": [
            "Requirement already satisfied: tqdm in /usr/local/lib/python3.8/dist-packages (4.59.0)\n",
            "Requirement already satisfied: torch in /usr/local/lib/python3.8/dist-packages (1.8.0)\n",
            "Requirement already satisfied: torchvision in /usr/local/lib/python3.8/dist-packages (0.9.0)\n",
            "Collecting tensorboard\n",
            "  Downloading tensorboard-2.4.1-py3-none-any.whl (10.6 MB)\n",
            "\u001b[K     |████████████████████████████████| 10.6 MB 19.6 MB/s \n",
            "\u001b[?25hCollecting tensorboard-plugin-wit>=1.6.0\n",
            "  Downloading tensorboard_plugin_wit-1.8.0-py3-none-any.whl (781 kB)\n",
            "\u001b[K     |████████████████████████████████| 781 kB 61.8 MB/s \n",
            "\u001b[?25hCollecting google-auth-oauthlib<0.5,>=0.4.1\n",
            "  Downloading google_auth_oauthlib-0.4.3-py2.py3-none-any.whl (18 kB)\n",
            "Collecting requests<3,>=2.21.0\n",
            "  Downloading requests-2.25.1-py2.py3-none-any.whl (61 kB)\n",
            "\u001b[K     |████████████████████████████████| 61 kB 9.3 MB/s \n",
            "\u001b[?25hRequirement already satisfied: markdown>=2.6.8 in /usr/local/lib/python3.8/dist-packages (from tensorboard) (3.3.4)\n",
            "Collecting protobuf>=3.6.0\n",
            "  Downloading protobuf-3.15.6-cp38-cp38-manylinux1_x86_64.whl (1.0 MB)\n",
            "\u001b[K     |████████████████████████████████| 1.0 MB 68.2 MB/s \n",
            "\u001b[?25hCollecting werkzeug>=0.11.15\n",
            "  Downloading Werkzeug-1.0.1-py2.py3-none-any.whl (298 kB)\n",
            "\u001b[K     |████████████████████████████████| 298 kB 71.4 MB/s \n",
            "\u001b[?25hCollecting absl-py>=0.4\n",
            "  Downloading absl_py-0.12.0-py3-none-any.whl (129 kB)\n",
            "\u001b[K     |████████████████████████████████| 129 kB 83.3 MB/s \n",
            "\u001b[?25hRequirement already satisfied: numpy>=1.12.0 in /usr/local/lib/python3.8/dist-packages (from tensorboard) (1.20.1)\n",
            "Collecting grpcio>=1.24.3\n",
            "  Downloading grpcio-1.36.1-cp38-cp38-manylinux2014_x86_64.whl (4.1 MB)\n",
            "\u001b[K     |████████████████████████████████| 4.1 MB 53.7 MB/s \n",
            "\u001b[?25hRequirement already satisfied: wheel>=0.26 in /usr/local/lib/python3.8/dist-packages (from tensorboard) (0.36.2)\n",
            "Requirement already satisfied: six>=1.10.0 in /usr/local/lib/python3.8/dist-packages (from tensorboard) (1.15.0)\n",
            "Collecting google-auth<2,>=1.6.3\n",
            "  Downloading google_auth-1.27.1-py2.py3-none-any.whl (136 kB)\n",
            "\u001b[K     |████████████████████████████████| 136 kB 77.2 MB/s \n",
            "\u001b[?25hRequirement already satisfied: setuptools>=41.0.0 in /usr/local/lib/python3.8/dist-packages (from tensorboard) (54.1.1)\n",
            "Collecting pyasn1-modules>=0.2.1\n",
            "  Downloading pyasn1_modules-0.2.8-py2.py3-none-any.whl (155 kB)\n",
            "\u001b[K     |████████████████████████████████| 155 kB 86.5 MB/s \n",
            "\u001b[?25hCollecting rsa<5,>=3.1.4\n",
            "  Downloading rsa-4.7.2-py3-none-any.whl (34 kB)\n",
            "Collecting cachetools<5.0,>=2.0.0\n",
            "  Downloading cachetools-4.2.1-py3-none-any.whl (12 kB)\n",
            "Collecting requests-oauthlib>=0.7.0\n",
            "  Downloading requests_oauthlib-1.3.0-py2.py3-none-any.whl (23 kB)\n",
            "Collecting pyasn1<0.5.0,>=0.4.6\n",
            "  Downloading pyasn1-0.4.8-py2.py3-none-any.whl (77 kB)\n",
            "\u001b[K     |████████████████████████████████| 77 kB 7.8 MB/s \n",
            "\u001b[?25hCollecting idna<3,>=2.5\n",
            "  Downloading idna-2.10-py2.py3-none-any.whl (58 kB)\n",
            "\u001b[K     |████████████████████████████████| 58 kB 8.3 MB/s \n",
            "\u001b[?25hCollecting urllib3<1.27,>=1.21.1\n",
            "  Downloading urllib3-1.26.3-py2.py3-none-any.whl (137 kB)\n",
            "\u001b[K     |████████████████████████████████| 137 kB 90.1 MB/s \n",
            "\u001b[?25hCollecting certifi>=2017.4.17\n",
            "  Downloading certifi-2020.12.5-py2.py3-none-any.whl (147 kB)\n",
            "\u001b[K     |████████████████████████████████| 147 kB 89.3 MB/s \n",
            "\u001b[?25hCollecting chardet<5,>=3.0.2\n",
            "  Downloading chardet-4.0.0-py2.py3-none-any.whl (178 kB)\n",
            "\u001b[K     |████████████████████████████████| 178 kB 73.4 MB/s \n",
            "\u001b[?25hCollecting oauthlib>=3.0.0\n",
            "  Downloading oauthlib-3.1.0-py2.py3-none-any.whl (147 kB)\n",
            "\u001b[K     |████████████████████████████████| 147 kB 95.3 MB/s \n",
            "\u001b[?25hRequirement already satisfied: typing-extensions in /usr/local/lib/python3.8/dist-packages (from torch) (3.7.4.3)\n",
            "Requirement already satisfied: pillow>=4.1.1 in /usr/local/lib/python3.8/dist-packages (from torchvision) (7.2.0)\n",
            "Installing collected packages: urllib3, pyasn1, idna, chardet, certifi, rsa, requests, pyasn1-modules, oauthlib, cachetools, requests-oauthlib, google-auth, werkzeug, tensorboard-plugin-wit, protobuf, grpcio, google-auth-oauthlib, absl-py, tensorboard\n",
            "Successfully installed absl-py-0.12.0 cachetools-4.2.1 certifi-2020.12.5 chardet-4.0.0 google-auth-1.27.1 google-auth-oauthlib-0.4.3 grpcio-1.36.1 idna-2.10 oauthlib-3.1.0 protobuf-3.15.6 pyasn1-0.4.8 pyasn1-modules-0.2.8 requests-2.25.1 requests-oauthlib-1.3.0 rsa-4.7.2 tensorboard-2.4.1 tensorboard-plugin-wit-1.8.0 urllib3-1.26.3 werkzeug-1.0.1\n"
          ],
          "name": "stdout"
        }
      ]
    },
    {
      "cell_type": "code",
      "metadata": {
        "id": "DmXN_kBVO9xX",
        "colab": {
          "base_uri": "https://localhost:8080/"
        },
        "outputId": "4c440fe5-cbe6-497e-e3f9-0cfdffc54400"
      },
      "source": [
        "create_display()\n",
        "!python3.8 -m learning.train --save-path {save_path} --episode {episode} --horizon {horizon} --learning-rate {learning_rate} --decay {decay} --map-name {map_name} --num-outputs {num_outputs}"
      ],
      "execution_count": 10,
      "outputs": [
        {
          "output_type": "stream",
          "text": [
            "/usr/bin/python3.8: Error while finding module specification for 'learning.train' (ModuleNotFoundError: No module named 'learning')\n"
          ],
          "name": "stdout"
        }
      ]
    },
    {
      "cell_type": "markdown",
      "metadata": {
        "id": "bQWpOpmOsORG"
      },
      "source": [
        "### View on Tensorboard"
      ]
    },
    {
      "cell_type": "code",
      "metadata": {
        "id": "jJhC4PbcsORG"
      },
      "source": [
        "%load_ext tensorboard\n",
        "%tensorboard --logdir {save_path}"
      ],
      "execution_count": null,
      "outputs": []
    },
    {
      "cell_type": "markdown",
      "metadata": {
        "id": "yHQCqfoPP9Gj"
      },
      "source": [
        "## Testing Imitation Model"
      ]
    },
    {
      "cell_type": "code",
      "metadata": {
        "id": "ewy5rVJxmGk-"
      },
      "source": [
        "map_name = \"loop_empty\" #@param {type: \"string\"}\n",
        "episode = 10 # @param {type: \"integer\"}\n",
        "horizon = 128 # @param {type: \"integer\"}"
      ],
      "execution_count": null,
      "outputs": []
    },
    {
      "cell_type": "code",
      "metadata": {
        "id": "DWYXt0mQP_CW"
      },
      "source": [
        "create_display()\n",
        "!python3.8 -m learning.test --model-path {os.path.join(save_path, \"model.pt\")} --num-outputs {num_outputs} --map-name {map_name} --episode {episode} --horizon {horizon}"
      ],
      "execution_count": null,
      "outputs": []
    }
  ]
}